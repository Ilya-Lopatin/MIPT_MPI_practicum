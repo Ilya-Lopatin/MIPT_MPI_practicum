{
 "cells": [
  {
   "cell_type": "markdown",
   "id": "3f9acfcf",
   "metadata": {},
   "source": [
    "## Подсчет суммы ряда аналитического решения"
   ]
  },
  {
   "cell_type": "markdown",
   "id": "e608e61e",
   "metadata": {},
   "source": [
    "Аналитическое решение дано как:\n",
    "$$\n",
    "u(x , t) = \\frac{4 u_0}{\\pi} \\sum_{m=0}^{\\infty} \\frac{ \\exp( - k pi^2 (2m+1)^2 t / l^2 ) }{1m+1} \\sin \\left( \\frac{ \\pi (2m+1) x}{l}  \\right)\n",
    "$$\n",
    "Для подсчета аналитического решения с наперед заданной точностью $\\epsilon$ необходимо оценить остаток ряда:\n",
    "$$\n",
    "| r_n | = \\frac{4 u_0}{\\pi} \\sum_{m=n}^{\\infty} \\left( \\dots  \\right)\n",
    "$$\n",
    "сверху"
   ]
  },
  {
   "cell_type": "markdown",
   "id": "d73bf5ec",
   "metadata": {},
   "source": [
    "Воспользуемся утвеждением (легко проверяемым, например, в любом графическом калькуляторе):\n",
    "$$\n",
    "e^{-x} \\leq \\frac{1}{x^3},\n",
    "$$\n",
    "при  $x \\geq 5$"
   ]
  },
  {
   "cell_type": "markdown",
   "id": "74b8fe8b",
   "metadata": {},
   "source": [
    "Тогда, при $ n \\geq 5$ \n",
    "$$\n",
    "| r_n | \\leq \\frac{4 u_0 }{ \\pi}  \\left( k \\pi^2 \\left( \\frac{t}{l^2} \\right)  \\right)^{-3} \\sum_{m=n}^{\\infty} \\frac{1}{ (2m+1)^7 }\n",
    "$$"
   ]
  },
  {
   "cell_type": "markdown",
   "id": "3fe6c017",
   "metadata": {},
   "source": [
    "В силу монотонности сумма поддается интегральной оценке:\n",
    "$$\n",
    "\\sum_{m=n}^{\\infty} \\frac{1}{ (2m+1)^7 } \\leq \\int_{n-1}^{\\infty} \\frac{dx}{ (2x+1)^7 } = \\frac{1}{ 12 (2n-1)^6 }\n",
    "$$"
   ]
  },
  {
   "cell_type": "markdown",
   "id": "d66b0279",
   "metadata": {},
   "source": [
    "Откуда, при $ n \\geq 5$:\n",
    "$$\n",
    "| r_n | \\leq \\frac{u_0 l^6 }{ 3 \\pi^7 k^3 t^3 } \\frac{1}{ (2n-1)^6 } \n",
    "$$"
   ]
  },
  {
   "cell_type": "markdown",
   "id": "d4fac8df",
   "metadata": {},
   "source": [
    "Тогда, при заданной допустимой ошибки $\\epsilon$ достаточно выбрать:\n",
    "$$\n",
    "n = max \\left( 5 ; \\frac{1}{2} \\left(  1 + \\frac{l}{\\pi} \\sqrt[6]{ \\frac{u_0}{3 \\pi k^3 t^3 \\epsilon} }  \\right)   \\right)\n",
    "$$"
   ]
  }
 ],
 "metadata": {
  "kernelspec": {
   "display_name": "Python 3 (ipykernel)",
   "language": "python",
   "name": "python3"
  },
  "language_info": {
   "codemirror_mode": {
    "name": "ipython",
    "version": 3
   },
   "file_extension": ".py",
   "mimetype": "text/x-python",
   "name": "python",
   "nbconvert_exporter": "python",
   "pygments_lexer": "ipython3",
   "version": "3.8.10"
  }
 },
 "nbformat": 4,
 "nbformat_minor": 5
}
